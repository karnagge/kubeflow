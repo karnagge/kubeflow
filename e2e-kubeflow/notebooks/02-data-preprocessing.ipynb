{
 "cells": [
  {
   "cell_type": "markdown",
   "metadata": {},
   "source": [
    "# Data Preprocessing for XGBoost Model\n",
    "\n",
    "This notebook handles data preprocessing steps including:\n",
    "- Loading the raw data\n",
    "- Handling missing values\n",
    "- Feature scaling\n",
    "- Feature engineering\n",
    "- Saving processed data for model training"
   ]
  },
  {
   "cell_type": "code",
   "execution_count": null,
   "metadata": {},
   "source": [
    "import numpy as np\n",
    "import pandas as pd\n",
    "from sklearn.preprocessing import StandardScaler\n",
    "from sklearn.impute import SimpleImputer\n",
    "\n",
    "# Set random seed for reproducibility\n",
    "RANDOM_STATE = 42\n",
    "np.random.seed(RANDOM_STATE)"
   ]
  },
  {
   "cell_type": "markdown",
   "metadata": {},
   "source": [
    "## Load Raw Data"
   ]
  },
  {
   "cell_type": "code",
   "execution_count": null,
   "metadata": {},
   "source": [
    "# Load datasets\n",
    "train_data = pd.read_csv('../data/raw/train.csv')\n",
    "val_data = pd.read_csv('../data/raw/validation.csv')\n",
    "test_data = pd.read_csv('../data/raw/test.csv')\n",
    "\n",
    "# Separate features and target\n",
    "X_train = train_data.drop('target', axis=1)\n",
    "y_train = train_data['target']\n",
    "X_val = val_data.drop('target', axis=1)\n",
    "y_val = val_data['target']\n",
    "X_test = test_data.drop('target', axis=1)\n",
    "y_test = test_data['target']\n",
    "\n",
    "print(\"Data loaded successfully!\")\n",
    "print(f\"Training set shape: {X_train.shape}\")\n",
    "print(f\"Validation set shape: {X_val.shape}\")\n",
    "print(f\"Test set shape: {X_test.shape}\")"
   ]
  },
  {
   "cell_type": "markdown",
   "metadata": {},
   "source": [
    "## Handle Missing Values\n",
    "\n",
    "We'll use median imputation for missing values since it's more robust to outliers than mean imputation."
   ]
  },
  {
   "cell_type": "code",
   "execution_count": null,
   "metadata": {},
   "source": [
    "# Initialize imputer\n",
    "imputer = SimpleImputer(strategy='median')\n",
    "\n",
    "# Fit on training data and transform all sets\n",
    "X_train_imputed = pd.DataFrame(\n",
    "    imputer.fit_transform(X_train),\n",
    "    columns=X_train.columns,\n",
    "    index=X_train.index\n",
    ")\n",
    "\n",
    "X_val_imputed = pd.DataFrame(\n",
    "    imputer.transform(X_val),\n",
    "    columns=X_val.columns,\n",
    "    index=X_val.index\n",
    ")\n",
    "\n",
    "X_test_imputed = pd.DataFrame(\n",
    "    imputer.transform(X_test),\n",
    "    columns=X_test.columns,\n",
    "    index=X_test.index\n",
    ")\n",
    "\n",
    "print(\"Missing values handled successfully!\")"
   ]
  },
  {
   "cell_type": "markdown",
   "metadata": {},
   "source": [
    "## Feature Scaling\n",
    "\n",
    "StandardScaler will normalize features to have zero mean and unit variance."
   ]
  },
  {
   "cell_type": "code",
   "execution_count": null,
   "metadata": {},
   "source": [
    "# Initialize scaler\n",
    "scaler = StandardScaler()\n",
    "\n",
    "# Fit on training data and transform all sets\n",
    "X_train_scaled = pd.DataFrame(\n",
    "    scaler.fit_transform(X_train_imputed),\n",
    "    columns=X_train_imputed.columns,\n",
    "    index=X_train_imputed.index\n",
    ")\n",
    "\n",
    "X_val_scaled = pd.DataFrame(\n",
    "    scaler.transform(X_val_imputed),\n",
    "    columns=X_val_imputed.columns,\n",
    "    index=X_val_imputed.index\n",
    ")\n",
    "\n",
    "X_test_scaled = pd.DataFrame(\n",
    "    scaler.transform(X_test_imputed),\n",
    "    columns=X_test_imputed.columns,\n",
    "    index=X_test_imputed.index\n",
    ")\n",
    "\n",
    "print(\"Feature scaling completed!\")"
   ]
  },
  {
   "cell_type": "markdown",
   "metadata": {},
   "source": [
    "## Feature Engineering\n",
    "\n",
    "Create interaction features between the most important features to capture non-linear relationships."
   ]
  },
  {
   "cell_type": "code",
   "execution_count": null,
   "metadata": {},
   "source": [
    "def create_interaction_features(X):\n",
    "    \"\"\"Create interaction features between selected features.\"\"\"\n",
    "    # Select first 5 features for interactions\n",
    "    base_features = X.columns[:5]\n",
    "    \n",
    "    # Create interactions\n",
    "    for i in range(len(base_features)):\n",
    "        for j in range(i + 1, len(base_features)):\n",
    "            feat1, feat2 = base_features[i], base_features[j]\n",
    "            X[f\"{feat1}_x_{feat2}\"] = X[feat1] * X[feat2]\n",
    "    \n",
    "    return X\n",
    "\n",
    "# Add interaction features\n",
    "X_train_final = create_interaction_features(X_train_scaled.copy())\n",
    "X_val_final = create_interaction_features(X_val_scaled.copy())\n",
    "X_test_final = create_interaction_features(X_test_scaled.copy())\n",
    "\n",
    "print(\"Feature engineering completed!\")\n",
    "print(f\"Final number of features: {X_train_final.shape[1]}\")"
   ]
  },
  {
   "cell_type": "markdown",
   "metadata": {},
   "source": [
    "## Save Processed Data"
   ]
  },
  {
   "cell_type": "code",
   "execution_count": null,
   "metadata": {},
   "source": [
    "import os\n",
    "import joblib\n",
    "\n",
    "# Create processed data directory\n",
    "os.makedirs('../data/processed', exist_ok=True)\n",
    "\n",
    "# Save processed datasets\n",
    "X_train_final.to_csv('../data/processed/X_train.csv', index=False)\n",
    "pd.DataFrame(y_train).to_csv('../data/processed/y_train.csv', index=False)\n",
    "X_val_final.to_csv('../data/processed/X_val.csv', index=False)\n",
    "pd.DataFrame(y_val).to_csv('../data/processed/y_val.csv', index=False)\n",
    "X_test_final.to_csv('../data/processed/X_test.csv', index=False)\n",
    "pd.DataFrame(y_test).to_csv('../data/processed/y_test.csv', index=False)\n",
    "\n",
    "# Save preprocessing objects for inference\n",
    "os.makedirs('../models/preprocessing', exist_ok=True)\n",
    "joblib.dump(imputer, '../models/preprocessing/imputer.joblib')\n",
    "joblib.dump(scaler, '../models/preprocessing/scaler.joblib')\n",
    "\n",
    "print(\"Processed data and preprocessing objects saved successfully!\")"
   ]
  },
  {
   "cell_type": "markdown",
   "metadata": {},
   "source": [
    "## Save Feature Information"
   ]
  },
  {
   "cell_type": "code",
   "execution_count": null,
   "metadata": {},
   "source": [
    "# Save feature names and their descriptions\n",
    "feature_info = {\n",
    "    'original_features': list(X_train.columns),\n",
    "    'interaction_features': [col for col in X_train_final.columns if '_x_' in col],\n",
    "    'total_features': list(X_train_final.columns)\n",
    "}\n",
    "\n",
    "import json\n",
    "with open('../data/processed/feature_info.json', 'w') as f:\n",
    "    json.dump(feature_info, f, indent=2)\n",
    "\n",
    "print(\"Feature information saved successfully!\")"
   ]
  }
 ],
 "metadata": {
  "kernelspec": {
   "display_name": "Python 3",
   "language": "python",
   "name": "python3"
  },
  "language_info": {
   "codemirror_mode": {
    "name": "ipython",
    "version": 3
   },
   "file_extension": ".py",
   "mimetype": "text/x-python",
   "name": "python",
   "nbconvert_exporter": "python",
   "pygments_lexer": "ipython3",
   "version": "3.8.0"
  }
 },
 "nbformat": 4,
 "nbformat_minor": 4
}