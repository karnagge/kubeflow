{
 "cells": [
  {
   "cell_type": "markdown",
   "metadata": {},
   "source": [
    "# XGBoost Model Development\n",
    "\n",
    "This notebook implements the XGBoost model for our classification task, including:\n",
    "- Loading processed data\n",
    "- Training the model\n",
    "- Model evaluation\n",
    "- Model export for Kubeflow pipeline"
   ]
  },
  {
   "cell_type": "code",
   "execution_count": null,
   "metadata": {},
   "source": [
    "import numpy as np\n",
    "import pandas as pd\n",
    "import xgboost as xgb\n",
    "from sklearn.metrics import accuracy_score, classification_report, confusion_matrix\n",
    "import matplotlib.pyplot as plt\n",
    "import seaborn as sns\n",
    "import json\n",
    "import os\n",
    "\n",
    "# Set random seed for reproducibility\n",
    "RANDOM_STATE = 42\n",
    "np.random.seed(RANDOM_STATE)"
   ]
  },
  {
   "cell_type": "markdown",
   "metadata": {},
   "source": [
    "## Load Processed Data"
   ]
  },
  {
   "cell_type": "code",
   "execution_count": null,
   "metadata": {},
   "source": [
    "# Load processed datasets\n",
    "X_train = pd.read_csv('../data/processed/X_train.csv')\n",
    "y_train = pd.read_csv('../data/processed/y_train.csv')['target']\n",
    "X_val = pd.read_csv('../data/processed/X_val.csv')\n",
    "y_val = pd.read_csv('../data/processed/y_val.csv')['target']\n",
    "X_test = pd.read_csv('../data/processed/X_test.csv')\n",
    "y_test = pd.read_csv('../data/processed/y_test.csv')['target']\n",
    "\n",
    "print(\"Data loaded successfully!\")\n",
    "print(f\"Training set shape: {X_train.shape}\")\n",
    "print(f\"Validation set shape: {X_val.shape}\")\n",
    "print(f\"Test set shape: {X_test.shape}\")"
   ]
  },
  {
   "cell_type": "markdown",
   "metadata": {},
   "source": [
    "## Create DMatrix Objects\n",
    "\n",
    "XGBoost's DMatrix is an optimized data structure for training."
   ]
  },
  {
   "cell_type": "code",
   "execution_count": null,
   "metadata": {},
   "source": [
    "dtrain = xgb.DMatrix(X_train, label=y_train)\n",
    "dval = xgb.DMatrix(X_val, label=y_val)\n",
    "dtest = xgb.DMatrix(X_test, label=y_test)\n",
    "\n",
    "# Create watchlist for training\n",
    "watchlist = [(dtrain, 'train'), (dval, 'validation')]"
   ]
  },
  {
   "cell_type": "markdown",
   "metadata": {},
   "source": [
    "## Define Model Parameters\n",
    "\n",
    "These parameters will later be optimized using Katib."
   ]
  },
  {
   "cell_type": "code",
   "execution_count": null,
   "metadata": {},
   "source": [
    "params = {\n",
    "    'objective': 'binary:logistic',\n",
    "    'eval_metric': ['error', 'auc', 'logloss'],\n",
    "    'max_depth': 6,\n",
    "    'learning_rate': 0.1,\n",
    "    'n_estimators': 500,\n",
    "    'min_child_weight': 1,\n",
    "    'subsample': 0.8,\n",
    "    'colsample_bytree': 0.8,\n",
    "    'random_state': RANDOM_STATE\n",
    "}"
   ]
  },
  {
   "cell_type": "markdown",
   "metadata": {},
   "source": [
    "## Train Model with Early Stopping"
   ]
  },
  {
   "cell_type": "code",
   "execution_count": null,
   "metadata": {},
   "source": [
    "num_rounds = params['n_estimators']\n",
    "model = xgb.train(\n",
    "    params,\n",
    "    dtrain,\n",
    "    num_rounds,\n",
    "    watchlist,\n",
    "    early_stopping_rounds=50,\n",
    "    verbose_eval=100\n",
    ")\n",
    "\n",
    "print(f\"Best iteration: {model.best_iteration}\")\n",
    "print(f\"Best validation error: {model.best_score}\")"
   ]
  },
  {
   "cell_type": "markdown",
   "metadata": {},
   "source": [
    "## Model Evaluation"
   ]
  },
  {
   "cell_type": "code",
   "execution_count": null,
   "metadata": {},
   "source": [
    "def evaluate_model(model, X, y, dataset_name):\n",
    "    dmatrix = xgb.DMatrix(X)\n",
    "    y_pred = model.predict(dmatrix)\n",
    "    y_pred_binary = (y_pred > 0.5).astype(int)\n",
    "    \n",
    "    accuracy = accuracy_score(y, y_pred_binary)\n",
    "    report = classification_report(y, y_pred_binary)\n",
    "    conf_matrix = confusion_matrix(y, y_pred_binary)\n",
    "    \n",
    "    print(f\"\\n{dataset_name} Results:\")\n",
    "    print(f\"Accuracy: {accuracy:.4f}\")\n",
    "    print(\"\\nClassification Report:\")\n",
    "    print(report)\n",
    "    \n",
    "    plt.figure(figsize=(8, 6))\n",
    "    sns.heatmap(conf_matrix, annot=True, fmt='d', cmap='Blues')\n",
    "    plt.title(f'Confusion Matrix - {dataset_name}')\n",
    "    plt.ylabel('True Label')\n",
    "    plt.xlabel('Predicted Label')\n",
    "    plt.show()\n",
    "    \n",
    "    return {\n",
    "        'accuracy': accuracy,\n",
    "        'confusion_matrix': conf_matrix.tolist(),\n",
    "        'classification_report': report\n",
    "    }\n",
    "\n",
    "# Evaluate on all datasets\n",
    "train_metrics = evaluate_model(model, X_train, y_train, \"Training Set\")\n",
    "val_metrics = evaluate_model(model, X_val, y_val, \"Validation Set\")\n",
    "test_metrics = evaluate_model(model, X_test, y_test, \"Test Set\")"
   ]
  },
  {
   "cell_type": "markdown",
   "metadata": {},
   "source": [
    "## Feature Importance Analysis"
   ]
  },
  {
   "cell_type": "code",
   "execution_count": null,
   "metadata": {},
   "source": [
    "feature_importance = model.get_score(importance_type='gain')\n",
    "importance_df = pd.DataFrame(\n",
    "    {\n",
    "        'feature': list(feature_importance.keys()),\n",
    "        'importance': list(feature_importance.values())\n",
    "    }\n",
    ").sort_values('importance', ascending=False)\n",
    "\n",
    "plt.figure(figsize=(12, 6))\n",
    "sns.barplot(data=importance_df.head(20), x='importance', y='feature')\n",
    "plt.title('Top 20 Feature Importance (Gain)')\n",
    "plt.show()"
   ]
  },
  {
   "cell_type": "markdown",
   "metadata": {},
   "source": [
    "## Save Model and Metrics"
   ]
  },
  {
   "cell_type": "code",
   "execution_count": null,
   "metadata": {},
   "source": [
    "# Create directories if they don't exist\n",
    "os.makedirs('../models/xgboost', exist_ok=True)\n",
    "os.makedirs('../models/metrics', exist_ok=True)\n",
    "os.makedirs('../models/serving', exist_ok=True)\n",
    "\n",
    "# Save model in XGBoost format\n",
    "model.save_model('../models/serving/model.json')\n",
    "\n",
    "# Save model configuration\n",
    "model_config = {\n",
    "    'feature_names': list(X_train.columns),\n",
    "    'parameters': params,\n",
    "    'best_iteration': model.best_iteration,\n",
    "    'best_score': float(model.best_score)\n",
    "}\n",
    "\n",
    "with open('../models/serving/model_config.json', 'w') as f:\n",
    "    json.dump(model_config, f, indent=2)\n",
    "\n",
    "# Save feature information\n",
    "feature_info = {\n",
    "    'feature_names': list(X_train.columns),\n",
    "    'n_features': len(X_train.columns)\n",
    "}\n",
    "\n",
    "with open('../models/serving/feature_info.json', 'w') as f:\n",
    "    json.dump(feature_info, f, indent=2)\n",
    "\n",
    "# Save evaluation metrics\n",
    "metrics = {\n",
    "    'train': train_metrics,\n",
    "    'validation': val_metrics,\n",
    "    'test': test_metrics,\n",
    "    'feature_importance': importance_df.to_dict(orient='records')\n",
    "}\n",
    "\n",
    "with open('../models/metrics/evaluation_metrics.json', 'w') as f:\n",
    "    json.dump(metrics, f, indent=2)\n",
    "\n",
    "print(\"Model, configuration, and metrics saved successfully!\")"
   ]
  }
 ],
 "metadata": {
  "kernelspec": {
   "display_name": "Python 3",
   "language": "python",
   "name": "python3"
  },
  "language_info": {
   "codemirror_mode": {
    "name": "ipython",
    "version": 3
   },
   "file_extension": ".py",
   "mimetype": "text/x-python",
   "name": "python",
   "nbconvert_exporter": "python",
   "pygments_lexer": "ipython3",
   "version": "3.8.0"
  }
 },
 "nbformat": 4,
 "nbformat_minor": 4
}