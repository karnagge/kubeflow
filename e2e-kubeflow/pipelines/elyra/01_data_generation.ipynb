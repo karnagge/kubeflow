{
 "cells": [
  {
   "cell_type": "markdown",
   "metadata": {},
   "source": [
    "# Data Generation Component\n",
    "This notebook generates synthetic data for training the XGBoost model."
   ]
  },
  {
   "cell_type": "code",
   "execution_count": null,
   "metadata": {
    "tags": [
     "parameters"
    ]
   },
   "source": [
    "# Elyra Pipeline Parameters\n",
    "output_dir = '../data'"
   ]
  },
  {
   "cell_type": "code",
   "execution_count": null,
   "metadata": {},
   "source": [
    "import numpy as np\n",
    "import pandas as pd\n",
    "from sklearn.datasets import make_classification\n",
    "from sklearn.model_selection import train_test_split\n",
    "import os"
   ]
  },
  {
   "cell_type": "code",
   "execution_count": null,
   "metadata": {},
   "source": [
    "# Set random seed\n",
    "np.random.seed(42)\n",
    "\n",
    "# Generate synthetic data\n",
    "X, y = make_classification(\n",
    "    n_samples=10000,\n",
    "    n_features=20,\n",
    "    n_informative=15,\n",
    "    n_redundant=5,\n",
    "    n_classes=2,\n",
    "    random_state=42,\n",
    "    class_sep=0.8,\n",
    "    flip_y=0.1\n",
    ")\n",
    "\n",
    "# Create feature names\n",
    "feature_names = [f'feature_{i}' for i in range(20)]\n",
    "df = pd.DataFrame(X, columns=feature_names)\n",
    "df['target'] = y"
   ]
  },
  {
   "cell_type": "code",
   "execution_count": null,
   "metadata": {},
   "source": [
    "# Split data\n",
    "train_val, test = train_test_split(df, test_size=0.2, random_state=42, stratify=df['target'])\n",
    "train, val = train_test_split(train_val, test_size=0.25, random_state=42, stratify=train_val['target'])"
   ]
  },
  {
   "cell_type": "code",
   "execution_count": null,
   "metadata": {},
   "source": [
    "# Create output directory\n",
    "os.makedirs(output_dir, exist_ok=True)\n",
    "\n",
    "# Save datasets\n",
    "train.to_csv(os.path.join(output_dir, 'train.csv'), index=False)\n",
    "val.to_csv(os.path.join(output_dir, 'val.csv'), index=False)\n",
    "test.to_csv(os.path.join(output_dir, 'test.csv'), index=False)\n",
    "\n",
    "# Return paths for the next components\n",
    "train_path = os.path.join(output_dir, 'train.csv')\n",
    "val_path = os.path.join(output_dir, 'val.csv')\n",
    "test_path = os.path.join(output_dir, 'test.csv')\n",
    "\n",
    "print(f'Saved train data to: {train_path}')\n",
    "print(f'Saved validation data to: {val_path}')\n",
    "print(f'Saved test data to: {test_path}')"
   ]
  }
 ],
 "metadata": {
  "kernelspec": {
   "display_name": "Python 3",
   "language": "python",
   "name": "python3"
  },
  "language_info": {
   "codemirror_mode": {
    "name": "ipython",
    "version": 3
   },
   "file_extension": ".py",
   "mimetype": "text/x-python",
   "name": "python",
   "nbconvert_exporter": "python",
   "pygments_lexer": "ipython3",
   "version": "3.8.0"
  }
 },
 "nbformat": 4,
 "nbformat_minor": 4
}