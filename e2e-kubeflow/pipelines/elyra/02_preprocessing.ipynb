{
 "cells": [
  {
   "cell_type": "markdown",
   "metadata": {},
   "source": [
    "# Data Preprocessing Component\n",
    "This notebook preprocesses the data for XGBoost model training"
   ]
  },
  {
   "cell_type": "code",
   "execution_count": null,
   "metadata": {
    "tags": [
     "parameters"
    ]
   },
   "source": [
    "# Elyra Pipeline Parameters\n",
    "input_dir = '../data'\n",
    "output_dir = '../data/processed'"
   ]
  },
  {
   "cell_type": "code",
   "execution_count": null,
   "metadata": {},
   "source": [
    "import pandas as pd\n",
    "import numpy as np\n",
    "from sklearn.preprocessing import StandardScaler\n",
    "from sklearn.impute import SimpleImputer\n",
    "import os\n",
    "import joblib"
   ]
  },
  {
   "cell_type": "code",
   "execution_count": null,
   "metadata": {},
   "source": [
    "def load_data(path):\n",
    "    df = pd.read_csv(path)\n",
    "    return df.drop('target', axis=1), df['target']\n",
    "\n",
    "def create_interaction_features(X):\n",
    "    base_features = X.columns[:5]\n",
    "    for i in range(len(base_features)):\n",
    "        for j in range(i + 1, len(base_features)):\n",
    "            feat1, feat2 = base_features[i], base_features[j]\n",
    "            X[f\"{feat1}_x_{feat2}\"] = X[feat1] * X[feat2]\n",
    "    return X\n",
    "\n",
    "# Load datasets\n",
    "X_train, y_train = load_data(os.path.join(input_dir, 'train.csv'))\n",
    "X_val, y_val = load_data(os.path.join(input_dir, 'val.csv'))\n",
    "X_test, y_test = load_data(os.path.join(input_dir, 'test.csv'))"
   ]
  },
  {
   "cell_type": "code",
   "execution_count": null,
   "metadata": {},
   "source": [
    "# Initialize preprocessors\n",
    "imputer = SimpleImputer(strategy='median')\n",
    "scaler = StandardScaler()\n",
    "\n",
    "# Fit and transform training data\n",
    "X_train_imputed = pd.DataFrame(\n",
    "    imputer.fit_transform(X_train),\n",
    "    columns=X_train.columns,\n",
    "    index=X_train.index\n",
    ")\n",
    "X_train_scaled = pd.DataFrame(\n",
    "    scaler.fit_transform(X_train_imputed),\n",
    "    columns=X_train_imputed.columns,\n",
    "    index=X_train_imputed.index\n",
    ")\n",
    "X_train_final = create_interaction_features(X_train_scaled.copy())"
   ]
  },
  {
   "cell_type": "code",
   "execution_count": null,
   "metadata": {},
   "source": [
    "# Transform validation data\n",
    "X_val_imputed = pd.DataFrame(\n",
    "    imputer.transform(X_val),\n",
    "    columns=X_val.columns,\n",
    "    index=X_val.index\n",
    ")\n",
    "X_val_scaled = pd.DataFrame(\n",
    "    scaler.transform(X_val_imputed),\n",
    "    columns=X_val_imputed.columns,\n",
    "    index=X_val_imputed.index\n",
    ")\n",
    "X_val_final = create_interaction_features(X_val_scaled.copy())\n",
    "\n",
    "# Transform test data\n",
    "X_test_imputed = pd.DataFrame(\n",
    "    imputer.transform(X_test),\n",
    "    columns=X_test.columns,\n",
    "    index=X_test.index\n",
    ")\n",
    "X_test_scaled = pd.DataFrame(\n",
    "    scaler.transform(X_test_imputed),\n",
    "    columns=X_test_imputed.columns,\n",
    "    index=X_test_imputed.index\n",
    ")\n",
    "X_test_final = create_interaction_features(X_test_scaled.copy())"
   ]
  },
  {
   "cell_type": "code",
   "execution_count": null,
   "metadata": {},
   "source": [
    "# Create output directory\n",
    "os.makedirs(output_dir, exist_ok=True)\n",
    "\n",
    "# Save processed data with targets\n",
    "train_final = X_train_final.copy()\n",
    "train_final['target'] = y_train\n",
    "train_final.to_csv(os.path.join(output_dir, 'X_train.csv'), index=False)\n",
    "\n",
    "val_final = X_val_final.copy()\n",
    "val_final['target'] = y_val\n",
    "val_final.to_csv(os.path.join(output_dir, 'X_val.csv'), index=False)\n",
    "\n",
    "test_final = X_test_final.copy()\n",
    "test_final['target'] = y_test\n",
    "test_final.to_csv(os.path.join(output_dir, 'X_test.csv'), index=False)\n",
    "\n",
    "# Save preprocessing objects\n",
    "preprocessing_objects = {\n",
    "    'imputer': imputer,\n",
    "    'scaler': scaler,\n",
    "    'feature_names': list(X_train_final.columns)\n",
    "}\n",
    "joblib.dump(preprocessing_objects, os.path.join(output_dir, 'preprocessing_state.joblib'))\n",
    "\n",
    "print(f'Saved processed datasets and preprocessing objects to: {output_dir}')"
   ]
  }
 ],
 "metadata": {
  "kernelspec": {
   "display_name": "Python 3",
   "language": "python",
   "name": "python3"
  },
  "language_info": {
   "codemirror_mode": {
    "name": "ipython",
    "version": 3
   },
   "file_extension": ".py",
   "mimetype": "text/x-python",
   "name": "python",
   "nbconvert_exporter": "python",
   "pygments_lexer": "ipython3",
   "version": "3.8.0"
  }
 },
 "nbformat": 4,
 "nbformat_minor": 4
}