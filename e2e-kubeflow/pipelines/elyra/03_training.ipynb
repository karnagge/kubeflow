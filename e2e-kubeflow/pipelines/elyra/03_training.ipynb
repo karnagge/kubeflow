{
 "cells": [
  {
   "cell_type": "markdown",
   "metadata": {},
   "source": [
    "# XGBoost Training Component\n",
    "This notebook trains the XGBoost model using the preprocessed data"
   ]
  },
  {
   "cell_type": "code",
   "execution_count": null,
   "metadata": {
    "tags": [
     "parameters"
    ]
   },
   "source": [
    "# Elyra Pipeline Parameters\n",
    "input_dir = '../data/processed'\n",
    "output_dir = '../models/xgboost'"
   ]
  },
  {
   "cell_type": "code",
   "execution_count": null,
   "metadata": {},
   "source": [
    "import pandas as pd\n",
    "import numpy as np\n",
    "import xgboost as xgb\n",
    "from sklearn.metrics import accuracy_score, roc_auc_score\n",
    "import json\n",
    "import os"
   ]
  },
  {
   "cell_type": "code",
   "execution_count": null,
   "metadata": {},
   "source": [
    "# Load data\n",
    "train_data = pd.read_csv(os.path.join(input_dir, 'X_train.csv'))\n",
    "val_data = pd.read_csv(os.path.join(input_dir, 'X_val.csv'))\n",
    "\n",
    "X_train = train_data.drop('target', axis=1)\n",
    "y_train = train_data['target']\n",
    "X_val = val_data.drop('target', axis=1)\n",
    "y_val = val_data['target']"
   ]
  },
  {
   "cell_type": "code",
   "execution_count": null,
   "metadata": {},
   "source": [
    "# Define hyperparameters\n",
    "params = {\n",
    "    'objective': 'binary:logistic',\n",
    "    'eval_metric': ['error', 'auc', 'logloss'],\n",
    "    'learning_rate': 0.1,\n",
    "    'max_depth': 6,\n",
    "    'n_estimators': 500,\n",
    "    'min_child_weight': 1,\n",
    "    'subsample': 0.8,\n",
    "    'colsample_bytree': 0.8,\n",
    "    'random_state': 42\n",
    "}"
   ]
  },
  {
   "cell_type": "code",
   "execution_count": null,
   "metadata": {},
   "source": [
    "# Create DMatrix objects\n",
    "dtrain = xgb.DMatrix(X_train, label=y_train)\n",
    "dval = xgb.DMatrix(X_val, label=y_val)\n",
    "\n",
    "# Set up watchlist\n",
    "watchlist = [(dtrain, 'train'), (dval, 'validation')]\n",
    "\n",
    "# Train model\n",
    "model = xgb.train(\n",
    "    params,\n",
    "    dtrain,\n",
    "    params['n_estimators'],\n",
    "    watchlist,\n",
    "    early_stopping_rounds=50,\n",
    "    verbose_eval=100\n",
    ")"
   ]
  },
  {
   "cell_type": "code",
   "execution_count": null,
   "metadata": {},
   "source": [
    "# Make predictions\n",
    "y_train_pred = model.predict(dtrain)\n",
    "y_val_pred = model.predict(dval)\n",
    "\n",
    "# Calculate metrics\n",
    "metrics = {\n",
    "    'train_accuracy': float(accuracy_score(y_train, y_train_pred > 0.5)),\n",
    "    'train_auc': float(roc_auc_score(y_train, y_train_pred)),\n",
    "    'val_accuracy': float(accuracy_score(y_val, y_val_pred > 0.5)),\n",
    "    'val_auc': float(roc_auc_score(y_val, y_val_pred)),\n",
    "    'best_iteration': model.best_iteration,\n",
    "    'best_score': float(model.best_score)\n",
    "}\n",
    "\n",
    "print(\"Training metrics:\")\n",
    "for metric, value in metrics.items():\n",
    "    print(f\"{metric}: {value}\")"
   ]
  },
  {
   "cell_type": "code",
   "execution_count": null,
   "metadata": {},
   "source": [
    "# Create output directory\n",
    "os.makedirs(output_dir, exist_ok=True)\n",
    "\n",
    "# Save model in XGBoost format\n",
    "model_path = os.path.join(output_dir, 'model.json')\n",
    "model.save_model(model_path)\n",
    "\n",
    "# Save metrics and parameters\n",
    "metrics_path = os.path.join(output_dir, 'metrics.json')\n",
    "with open(metrics_path, 'w') as f:\n",
    "    json.dump({\n",
    "        'metrics': metrics,\n",
    "        'parameters': params,\n",
    "        'feature_names': list(X_train.columns)\n",
    "    }, f, indent=2)\n",
    "\n",
    "print(f'Saved model to: {model_path}')\n",
    "print(f'Saved metrics to: {metrics_path}')"
   ]
  }
 ],
 "metadata": {
  "kernelspec": {
   "display_name": "Python 3",
   "language": "python",
   "name": "python3"
  },
  "language_info": {
   "codemirror_mode": {
    "name": "ipython",
    "version": 3
   },
   "file_extension": ".py",
   "mimetype": "text/x-python",
   "name": "python",
   "nbconvert_exporter": "python",
   "pygments_lexer": "ipython3",
   "version": "3.8.0"
  }
 },
 "nbformat": 4,
 "nbformat_minor": 4
}